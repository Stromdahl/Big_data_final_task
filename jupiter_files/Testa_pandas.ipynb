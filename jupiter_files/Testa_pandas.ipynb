{
 "cells": [
  {
   "cell_type": "code",
   "execution_count": 1,
   "metadata": {},
   "outputs": [],
   "source": [
    "import pandas as pd\n",
    "import numpy as np"
   ]
  },
  {
   "cell_type": "markdown",
   "metadata": {},
   "source": [
    "### Läs av datasettet som tillhandahålls"
   ]
  },
  {
   "cell_type": "code",
   "execution_count": 2,
   "metadata": {},
   "outputs": [],
   "source": [
    "train = pd.read_csv(\n",
    "    './raw_data/train.csv', \n",
    "    low_memory=False,\n",
    "    nrows=2000,\n",
    ")"
   ]
  },
  {
   "cell_type": "markdown",
   "metadata": {},
   "source": [
    "### Optimerar minnet med hjälp av mindre datatyper"
   ]
  },
  {
   "cell_type": "code",
   "execution_count": 3,
   "metadata": {},
   "outputs": [],
   "source": [
    "train = train.dropna()\n",
    "train['timestamp'] = train['timestamp'].astype('int64')\n",
    "train['user_id'] = train['user_id'].astype('int32')\n",
    "train['content_id'] = train['content_id'].astype('int16')\n",
    "train['task_container_id'] = train['task_container_id'].astype('int16')\n",
    "train['user_answer'] = train['user_answer'].astype('int8')\n",
    "train['answered_correctly'] = train['answered_correctly'].astype('int32')\n",
    "train['prior_question_had_explanation'] = train['prior_question_had_explanation'].astype('boolean')"
   ]
  },
  {
   "cell_type": "code",
   "execution_count": 4,
   "metadata": {},
   "outputs": [
    {
     "name": "stdout",
     "output_type": "stream",
     "text": [
      "<class 'pandas.core.frame.DataFrame'>\n",
      "Int64Index: 1969 entries, 1 to 1999\n",
      "Data columns (total 10 columns):\n",
      " #   Column                          Non-Null Count  Dtype  \n",
      "---  ------                          --------------  -----  \n",
      " 0   row_id                          1969 non-null   int64  \n",
      " 1   timestamp                       1969 non-null   int64  \n",
      " 2   user_id                         1969 non-null   int32  \n",
      " 3   content_id                      1969 non-null   int16  \n",
      " 4   content_type_id                 1969 non-null   int64  \n",
      " 5   task_container_id               1969 non-null   int16  \n",
      " 6   user_answer                     1969 non-null   int8   \n",
      " 7   answered_correctly              1969 non-null   int32  \n",
      " 8   prior_question_elapsed_time     1969 non-null   float64\n",
      " 9   prior_question_had_explanation  1969 non-null   boolean\n",
      "dtypes: boolean(1), float64(1), int16(2), int32(2), int64(3), int8(1)\n",
      "memory usage: 105.8 KB\n"
     ]
    }
   ],
   "source": [
    "train.info()"
   ]
  },
  {
   "cell_type": "markdown",
   "metadata": {},
   "source": [
    "### Delar upp datasettet "
   ]
  },
  {
   "cell_type": "code",
   "execution_count": 5,
   "metadata": {},
   "outputs": [],
   "source": [
    "features = train.iloc[:int(9/10 * len(train))]\n",
    "train = train.iloc[int(9/10 * len(train)):]"
   ]
  },
  {
   "cell_type": "markdown",
   "metadata": {},
   "source": [
    "### Vi börjar med att ta bort 'lectures' (answered_correctly == 0 eller 1 betyder question, answered_correctly == -1 betyder lecture)\n",
    "### Sedan grupperar vi (agg) mean, count, standardvalue, median, avvikelse för användar-id.\n",
    "### Sedan skapar vi motsvarande kolumner för dessa värden. "
   ]
  },
  {
   "cell_type": "code",
   "execution_count": 6,
   "metadata": {},
   "outputs": [
    {
     "data": {
      "text/html": [
       "<div>\n",
       "<style scoped>\n",
       "    .dataframe tbody tr th:only-of-type {\n",
       "        vertical-align: middle;\n",
       "    }\n",
       "\n",
       "    .dataframe tbody tr th {\n",
       "        vertical-align: top;\n",
       "    }\n",
       "\n",
       "    .dataframe thead th {\n",
       "        text-align: right;\n",
       "    }\n",
       "</style>\n",
       "<table border=\"1\" class=\"dataframe\">\n",
       "  <thead>\n",
       "    <tr style=\"text-align: right;\">\n",
       "      <th></th>\n",
       "      <th>mean_user_accuracy</th>\n",
       "      <th>questions_answered</th>\n",
       "      <th>std_user_accuracy</th>\n",
       "      <th>median_user_accuracy</th>\n",
       "      <th>skew_user_accuracy</th>\n",
       "    </tr>\n",
       "    <tr>\n",
       "      <th>user_id</th>\n",
       "      <th></th>\n",
       "      <th></th>\n",
       "      <th></th>\n",
       "      <th></th>\n",
       "      <th></th>\n",
       "    </tr>\n",
       "  </thead>\n",
       "  <tbody>\n",
       "    <tr>\n",
       "      <th>115</th>\n",
       "      <td>0.688889</td>\n",
       "      <td>45</td>\n",
       "      <td>0.468179</td>\n",
       "      <td>1</td>\n",
       "      <td>-0.844439</td>\n",
       "    </tr>\n",
       "    <tr>\n",
       "      <th>124</th>\n",
       "      <td>0.206897</td>\n",
       "      <td>29</td>\n",
       "      <td>0.412251</td>\n",
       "      <td>0</td>\n",
       "      <td>1.527297</td>\n",
       "    </tr>\n",
       "    <tr>\n",
       "      <th>2746</th>\n",
       "      <td>0.611111</td>\n",
       "      <td>18</td>\n",
       "      <td>0.501631</td>\n",
       "      <td>1</td>\n",
       "      <td>-0.498374</td>\n",
       "    </tr>\n",
       "    <tr>\n",
       "      <th>5382</th>\n",
       "      <td>0.669355</td>\n",
       "      <td>124</td>\n",
       "      <td>0.472354</td>\n",
       "      <td>1</td>\n",
       "      <td>-0.728823</td>\n",
       "    </tr>\n",
       "    <tr>\n",
       "      <th>8623</th>\n",
       "      <td>0.638889</td>\n",
       "      <td>108</td>\n",
       "      <td>0.482562</td>\n",
       "      <td>1</td>\n",
       "      <td>-0.586492</td>\n",
       "    </tr>\n",
       "    <tr>\n",
       "      <th>8701</th>\n",
       "      <td>0.562500</td>\n",
       "      <td>16</td>\n",
       "      <td>0.512348</td>\n",
       "      <td>1</td>\n",
       "      <td>-0.278829</td>\n",
       "    </tr>\n",
       "    <tr>\n",
       "      <th>12741</th>\n",
       "      <td>0.575758</td>\n",
       "      <td>264</td>\n",
       "      <td>0.495166</td>\n",
       "      <td>1</td>\n",
       "      <td>-0.308324</td>\n",
       "    </tr>\n",
       "    <tr>\n",
       "      <th>13134</th>\n",
       "      <td>0.704623</td>\n",
       "      <td>1168</td>\n",
       "      <td>0.456407</td>\n",
       "      <td>1</td>\n",
       "      <td>-0.898208</td>\n",
       "    </tr>\n",
       "  </tbody>\n",
       "</table>\n",
       "</div>"
      ],
      "text/plain": [
       "         mean_user_accuracy  questions_answered  std_user_accuracy  \\\n",
       "user_id                                                              \n",
       "115                0.688889                  45           0.468179   \n",
       "124                0.206897                  29           0.412251   \n",
       "2746               0.611111                  18           0.501631   \n",
       "5382               0.669355                 124           0.472354   \n",
       "8623               0.638889                 108           0.482562   \n",
       "8701               0.562500                  16           0.512348   \n",
       "12741              0.575758                 264           0.495166   \n",
       "13134              0.704623                1168           0.456407   \n",
       "\n",
       "         median_user_accuracy  skew_user_accuracy  \n",
       "user_id                                            \n",
       "115                         1           -0.844439  \n",
       "124                         0            1.527297  \n",
       "2746                        1           -0.498374  \n",
       "5382                        1           -0.728823  \n",
       "8623                        1           -0.586492  \n",
       "8701                        1           -0.278829  \n",
       "12741                       1           -0.308324  \n",
       "13134                       1           -0.898208  "
      ]
     },
     "execution_count": 6,
     "metadata": {},
     "output_type": "execute_result"
    }
   ],
   "source": [
    "train_questions_only_df = features[features['answered_correctly'] != -1]\n",
    "grouped_by_user_df = train_questions_only_df.groupby('user_id')\n",
    "\n",
    "user_answers_df = grouped_by_user_df.agg(\n",
    "    {\n",
    "        'answered_correctly': [\n",
    "            'mean', \n",
    "            'count', \n",
    "            'std', \n",
    "            'median', \n",
    "            'skew'\n",
    "        ]\n",
    "    }\n",
    ").copy()\n",
    "\n",
    "user_answers_df.columns = [\n",
    "    'mean_user_accuracy', \n",
    "    'questions_answered', \n",
    "    'std_user_accuracy', \n",
    "    'median_user_accuracy', \n",
    "    'skew_user_accuracy'\n",
    "]\n",
    "\n",
    "user_answers_df"
   ]
  },
  {
   "cell_type": "markdown",
   "metadata": {},
   "source": [
    "### Vi grupperar content-id\n",
    "### Sedan grupperar vi (agg) mean, count, standardvalue, median, avvikelse för content-id.\n",
    "### Sedan skapar vi motsvarande kolumner för dessa värden."
   ]
  },
  {
   "cell_type": "code",
   "execution_count": 7,
   "metadata": {},
   "outputs": [
    {
     "data": {
      "text/html": [
       "<div>\n",
       "<style scoped>\n",
       "    .dataframe tbody tr th:only-of-type {\n",
       "        vertical-align: middle;\n",
       "    }\n",
       "\n",
       "    .dataframe tbody tr th {\n",
       "        vertical-align: top;\n",
       "    }\n",
       "\n",
       "    .dataframe thead th {\n",
       "        text-align: right;\n",
       "    }\n",
       "</style>\n",
       "<table border=\"1\" class=\"dataframe\">\n",
       "  <thead>\n",
       "    <tr style=\"text-align: right;\">\n",
       "      <th></th>\n",
       "      <th>mean_accuracy</th>\n",
       "      <th>question_asked</th>\n",
       "      <th>std_accuracy</th>\n",
       "      <th>median_accuracy</th>\n",
       "      <th>skew_accuracy</th>\n",
       "    </tr>\n",
       "    <tr>\n",
       "      <th>content_id</th>\n",
       "      <th></th>\n",
       "      <th></th>\n",
       "      <th></th>\n",
       "      <th></th>\n",
       "      <th></th>\n",
       "    </tr>\n",
       "  </thead>\n",
       "  <tbody>\n",
       "    <tr>\n",
       "      <th>2</th>\n",
       "      <td>0.0</td>\n",
       "      <td>1</td>\n",
       "      <td>NaN</td>\n",
       "      <td>0.0</td>\n",
       "      <td>NaN</td>\n",
       "    </tr>\n",
       "    <tr>\n",
       "      <th>4</th>\n",
       "      <td>0.0</td>\n",
       "      <td>1</td>\n",
       "      <td>NaN</td>\n",
       "      <td>0.0</td>\n",
       "      <td>NaN</td>\n",
       "    </tr>\n",
       "    <tr>\n",
       "      <th>5</th>\n",
       "      <td>0.0</td>\n",
       "      <td>1</td>\n",
       "      <td>NaN</td>\n",
       "      <td>0.0</td>\n",
       "      <td>NaN</td>\n",
       "    </tr>\n",
       "    <tr>\n",
       "      <th>6</th>\n",
       "      <td>1.0</td>\n",
       "      <td>1</td>\n",
       "      <td>NaN</td>\n",
       "      <td>1.0</td>\n",
       "      <td>NaN</td>\n",
       "    </tr>\n",
       "    <tr>\n",
       "      <th>9</th>\n",
       "      <td>0.0</td>\n",
       "      <td>2</td>\n",
       "      <td>0.0</td>\n",
       "      <td>0.0</td>\n",
       "      <td>NaN</td>\n",
       "    </tr>\n",
       "    <tr>\n",
       "      <th>...</th>\n",
       "      <td>...</td>\n",
       "      <td>...</td>\n",
       "      <td>...</td>\n",
       "      <td>...</td>\n",
       "      <td>...</td>\n",
       "    </tr>\n",
       "    <tr>\n",
       "      <th>13503</th>\n",
       "      <td>0.0</td>\n",
       "      <td>1</td>\n",
       "      <td>NaN</td>\n",
       "      <td>0.0</td>\n",
       "      <td>NaN</td>\n",
       "    </tr>\n",
       "    <tr>\n",
       "      <th>13505</th>\n",
       "      <td>1.0</td>\n",
       "      <td>1</td>\n",
       "      <td>NaN</td>\n",
       "      <td>1.0</td>\n",
       "      <td>NaN</td>\n",
       "    </tr>\n",
       "    <tr>\n",
       "      <th>13510</th>\n",
       "      <td>1.0</td>\n",
       "      <td>1</td>\n",
       "      <td>NaN</td>\n",
       "      <td>1.0</td>\n",
       "      <td>NaN</td>\n",
       "    </tr>\n",
       "    <tr>\n",
       "      <th>13519</th>\n",
       "      <td>1.0</td>\n",
       "      <td>1</td>\n",
       "      <td>NaN</td>\n",
       "      <td>1.0</td>\n",
       "      <td>NaN</td>\n",
       "    </tr>\n",
       "    <tr>\n",
       "      <th>13522</th>\n",
       "      <td>0.0</td>\n",
       "      <td>1</td>\n",
       "      <td>NaN</td>\n",
       "      <td>0.0</td>\n",
       "      <td>NaN</td>\n",
       "    </tr>\n",
       "  </tbody>\n",
       "</table>\n",
       "<p>1628 rows × 5 columns</p>\n",
       "</div>"
      ],
      "text/plain": [
       "            mean_accuracy  question_asked  std_accuracy  median_accuracy  \\\n",
       "content_id                                                                 \n",
       "2                     0.0               1           NaN              0.0   \n",
       "4                     0.0               1           NaN              0.0   \n",
       "5                     0.0               1           NaN              0.0   \n",
       "6                     1.0               1           NaN              1.0   \n",
       "9                     0.0               2           0.0              0.0   \n",
       "...                   ...             ...           ...              ...   \n",
       "13503                 0.0               1           NaN              0.0   \n",
       "13505                 1.0               1           NaN              1.0   \n",
       "13510                 1.0               1           NaN              1.0   \n",
       "13519                 1.0               1           NaN              1.0   \n",
       "13522                 0.0               1           NaN              0.0   \n",
       "\n",
       "            skew_accuracy  \n",
       "content_id                 \n",
       "2                     NaN  \n",
       "4                     NaN  \n",
       "5                     NaN  \n",
       "6                     NaN  \n",
       "9                     NaN  \n",
       "...                   ...  \n",
       "13503                 NaN  \n",
       "13505                 NaN  \n",
       "13510                 NaN  \n",
       "13519                 NaN  \n",
       "13522                 NaN  \n",
       "\n",
       "[1628 rows x 5 columns]"
      ]
     },
     "execution_count": 7,
     "metadata": {},
     "output_type": "execute_result"
    }
   ],
   "source": [
    "grouped_by_content_df = train_questions_only_df.groupby('content_id')\n",
    "content_answers_df = grouped_by_content_df.agg(\n",
    "    {\n",
    "        'answered_correctly': [\n",
    "            'mean', \n",
    "            'count', \n",
    "            'std', \n",
    "            'median', \n",
    "            'skew'\n",
    "        ]\n",
    "    }\n",
    ").copy()\n",
    "\n",
    "content_answers_df.columns = [\n",
    "    'mean_accuracy', \n",
    "    'question_asked', \n",
    "    'std_accuracy', \n",
    "    'median_accuracy', \n",
    "    'skew_accuracy'\n",
    "]\n",
    "\n",
    "content_answers_df"
   ]
  },
  {
   "cell_type": "markdown",
   "metadata": {},
   "source": [
    "### Din stackars dator pallar inte trycket så vi deletar allokerat minne åt dig <3"
   ]
  },
  {
   "cell_type": "code",
   "execution_count": 8,
   "metadata": {},
   "outputs": [],
   "source": [
    "del features\n",
    "del grouped_by_user_df\n",
    "del grouped_by_content_df"
   ]
  },
  {
   "cell_type": "markdown",
   "metadata": {},
   "source": [
    "### Vi skapar nya Features och en ny Target som våran algoritm ska jobba med. "
   ]
  },
  {
   "cell_type": "code",
   "execution_count": 9,
   "metadata": {},
   "outputs": [],
   "source": [
    "features = [\n",
    "    'mean_user_accuracy', \n",
    "    'questions_answered',\n",
    "    'std_user_accuracy', \n",
    "    'median_user_accuracy',\n",
    "    'skew_user_accuracy',\n",
    "    'mean_accuracy', \n",
    "    'question_asked',\n",
    "    'std_accuracy', \n",
    "    'median_accuracy',\n",
    "    'prior_question_had_explanation',\n",
    "    'skew_accuracy'\n",
    "]\n",
    "\n",
    "target = 'answered_correctly'"
   ]
  },
  {
   "cell_type": "markdown",
   "metadata": {},
   "source": [
    "### Kontrollerar att vi inte har några -1 värden i target. (Då är det lectures)"
   ]
  },
  {
   "cell_type": "code",
   "execution_count": 10,
   "metadata": {},
   "outputs": [],
   "source": [
    "train = train[train[target] != -1]"
   ]
  },
  {
   "cell_type": "markdown",
   "metadata": {},
   "source": [
    "### Vi mergar user_answers och content_answers dataframes. \n",
    "### Det förekommer nullvärden efter våran merge, så vi fyller dom."
   ]
  },
  {
   "cell_type": "code",
   "execution_count": 11,
   "metadata": {},
   "outputs": [
    {
     "data": {
      "text/plain": [
       "row_id                            0\n",
       "timestamp                         0\n",
       "user_id                           0\n",
       "content_id                        0\n",
       "content_type_id                   0\n",
       "task_container_id                 0\n",
       "user_answer                       0\n",
       "answered_correctly                0\n",
       "prior_question_elapsed_time       0\n",
       "prior_question_had_explanation    0\n",
       "mean_user_accuracy                0\n",
       "questions_answered                0\n",
       "std_user_accuracy                 0\n",
       "median_user_accuracy              0\n",
       "skew_user_accuracy                0\n",
       "mean_accuracy                     0\n",
       "question_asked                    0\n",
       "std_accuracy                      0\n",
       "median_accuracy                   0\n",
       "skew_accuracy                     0\n",
       "dtype: int64"
      ]
     },
     "execution_count": 11,
     "metadata": {},
     "output_type": "execute_result"
    }
   ],
   "source": [
    "train = train.merge(user_answers_df, how='left', on='user_id')\n",
    "train = train.merge(content_answers_df, how='left', on='content_id')\n",
    "fmean = train.mean()\n",
    "fmean['prior_question_had_explanation'] = round(fmean['prior_question_had_explanation'])\n",
    "train = train.fillna(fmean)\n",
    "train.isna().sum()"
   ]
  },
  {
   "cell_type": "markdown",
   "metadata": {},
   "source": [
    "### Vi delar dataframen i den datan som ska bearbetas (x) och (y) som i sin tur ska motsvara förutsägelse av 'answered_correctly'"
   ]
  },
  {
   "cell_type": "code",
   "execution_count": 12,
   "metadata": {},
   "outputs": [],
   "source": [
    "X = train[features] \n",
    "y = train[target] "
   ]
  },
  {
   "cell_type": "markdown",
   "metadata": {},
   "source": [
    "### Vi splittar vårat data för våra algoritmer"
   ]
  },
  {
   "cell_type": "code",
   "execution_count": 13,
   "metadata": {},
   "outputs": [],
   "source": [
    "from sklearn.model_selection import train_test_split\n",
    "X_train,X_test,y_train,y_test = train_test_split(X,y,test_size=0.3)"
   ]
  },
  {
   "cell_type": "code",
   "execution_count": 14,
   "metadata": {},
   "outputs": [],
   "source": [
    "from sklearn.linear_model import LogisticRegression"
   ]
  },
  {
   "cell_type": "markdown",
   "metadata": {},
   "source": [
    "### Vi använder oss utav 'LogisticRegression', vi ger den datan att behandla\n",
    "### Och skriver ut det förutsatta resultatet av 'answered_correctly'"
   ]
  },
  {
   "cell_type": "code",
   "execution_count": 15,
   "metadata": {},
   "outputs": [
    {
     "name": "stdout",
     "output_type": "stream",
     "text": [
      "LogisticRegression: 0.6666666666666666\n"
     ]
    }
   ],
   "source": [
    "\n",
    "classifier = LogisticRegression()\n",
    "classifier.fit(X_train, y_train.values.ravel())\n",
    "print('LogisticRegression:', classifier.score(X_test, y_test))"
   ]
  },
  {
   "cell_type": "code",
   "execution_count": 16,
   "metadata": {},
   "outputs": [],
   "source": [
    "from sklearn.tree import DecisionTreeClassifier"
   ]
  },
  {
   "cell_type": "markdown",
   "metadata": {},
   "source": [
    "### Vi använder oss utav 'DecisionTreeClassifier', vi ger den datan att behandla\n",
    "### Och skriver ut det förutsatta resultatet av 'answered_correctly'"
   ]
  },
  {
   "cell_type": "code",
   "execution_count": 17,
   "metadata": {},
   "outputs": [
    {
     "name": "stdout",
     "output_type": "stream",
     "text": [
      "Decision Tree Result: 0.6666666666666666\n"
     ]
    }
   ],
   "source": [
    "classifier = DecisionTreeClassifier()\n",
    "classifier.fit(X_train, y_train.values.ravel())\n",
    "print('Decision Tree Result:', classifier.score(X_test, y_test))"
   ]
  },
  {
   "cell_type": "code",
   "execution_count": 18,
   "metadata": {},
   "outputs": [],
   "source": [
    "from sklearn.svm import SVC"
   ]
  },
  {
   "cell_type": "markdown",
   "metadata": {},
   "source": [
    "### Vi använder oss utav 'SVC', vi ger den datan att behandla\n",
    "### Och skriver ut det förutsatta resultatet av 'answered_correctly'"
   ]
  },
  {
   "cell_type": "code",
   "execution_count": 19,
   "metadata": {},
   "outputs": [
    {
     "name": "stdout",
     "output_type": "stream",
     "text": [
      "SVC Result: 0.6666666666666666\n"
     ]
    }
   ],
   "source": [
    "classifier = SVC()\n",
    "classifier.fit(X_train, y_train.values.ravel())\n",
    "print('SVC Result:', classifier.score(X_test, y_test))"
   ]
  },
  {
   "cell_type": "code",
   "execution_count": 24,
   "metadata": {},
   "outputs": [
    {
     "data": {
      "text/html": [
       "<div>\n",
       "<style scoped>\n",
       "    .dataframe tbody tr th:only-of-type {\n",
       "        vertical-align: middle;\n",
       "    }\n",
       "\n",
       "    .dataframe tbody tr th {\n",
       "        vertical-align: top;\n",
       "    }\n",
       "\n",
       "    .dataframe thead th {\n",
       "        text-align: right;\n",
       "    }\n",
       "</style>\n",
       "<table border=\"1\" class=\"dataframe\">\n",
       "  <thead>\n",
       "    <tr style=\"text-align: right;\">\n",
       "      <th></th>\n",
       "      <th>row_id</th>\n",
       "      <th>timestamp</th>\n",
       "      <th>user_id</th>\n",
       "      <th>content_id</th>\n",
       "      <th>content_type_id</th>\n",
       "      <th>task_container_id</th>\n",
       "      <th>user_answer</th>\n",
       "      <th>answered_correctly</th>\n",
       "      <th>prior_question_elapsed_time</th>\n",
       "      <th>prior_question_had_explanation</th>\n",
       "      <th>mean_user_accuracy</th>\n",
       "      <th>questions_answered</th>\n",
       "      <th>std_user_accuracy</th>\n",
       "      <th>median_user_accuracy</th>\n",
       "      <th>skew_user_accuracy</th>\n",
       "      <th>mean_accuracy</th>\n",
       "      <th>question_asked</th>\n",
       "      <th>std_accuracy</th>\n",
       "      <th>median_accuracy</th>\n",
       "      <th>skew_accuracy</th>\n",
       "    </tr>\n",
       "  </thead>\n",
       "  <tbody>\n",
       "    <tr>\n",
       "      <th>0</th>\n",
       "      <td>1800</td>\n",
       "      <td>17508330877</td>\n",
       "      <td>13134</td>\n",
       "      <td>3340</td>\n",
       "      <td>0</td>\n",
       "      <td>980</td>\n",
       "      <td>3</td>\n",
       "      <td>1</td>\n",
       "      <td>33000.0</td>\n",
       "      <td>True</td>\n",
       "      <td>0.704623</td>\n",
       "      <td>1168.0</td>\n",
       "      <td>0.456407</td>\n",
       "      <td>1.0</td>\n",
       "      <td>-0.898208</td>\n",
       "      <td>0.392361</td>\n",
       "      <td>1.625</td>\n",
       "      <td>0.327602</td>\n",
       "      <td>0.385417</td>\n",
       "      <td>0.216506</td>\n",
       "    </tr>\n",
       "    <tr>\n",
       "      <th>1</th>\n",
       "      <td>1801</td>\n",
       "      <td>17515647346</td>\n",
       "      <td>13134</td>\n",
       "      <td>10666</td>\n",
       "      <td>0</td>\n",
       "      <td>981</td>\n",
       "      <td>2</td>\n",
       "      <td>1</td>\n",
       "      <td>28666.0</td>\n",
       "      <td>True</td>\n",
       "      <td>0.704623</td>\n",
       "      <td>1168.0</td>\n",
       "      <td>0.456407</td>\n",
       "      <td>1.0</td>\n",
       "      <td>-0.898208</td>\n",
       "      <td>0.392361</td>\n",
       "      <td>1.625</td>\n",
       "      <td>0.327602</td>\n",
       "      <td>0.385417</td>\n",
       "      <td>0.216506</td>\n",
       "    </tr>\n",
       "    <tr>\n",
       "      <th>2</th>\n",
       "      <td>1802</td>\n",
       "      <td>17515688927</td>\n",
       "      <td>13134</td>\n",
       "      <td>10512</td>\n",
       "      <td>0</td>\n",
       "      <td>982</td>\n",
       "      <td>1</td>\n",
       "      <td>0</td>\n",
       "      <td>24000.0</td>\n",
       "      <td>True</td>\n",
       "      <td>0.704623</td>\n",
       "      <td>1168.0</td>\n",
       "      <td>0.456407</td>\n",
       "      <td>1.0</td>\n",
       "      <td>-0.898208</td>\n",
       "      <td>0.392361</td>\n",
       "      <td>1.625</td>\n",
       "      <td>0.327602</td>\n",
       "      <td>0.385417</td>\n",
       "      <td>0.216506</td>\n",
       "    </tr>\n",
       "    <tr>\n",
       "      <th>3</th>\n",
       "      <td>1803</td>\n",
       "      <td>17515722537</td>\n",
       "      <td>13134</td>\n",
       "      <td>12655</td>\n",
       "      <td>0</td>\n",
       "      <td>983</td>\n",
       "      <td>2</td>\n",
       "      <td>1</td>\n",
       "      <td>30000.0</td>\n",
       "      <td>True</td>\n",
       "      <td>0.704623</td>\n",
       "      <td>1168.0</td>\n",
       "      <td>0.456407</td>\n",
       "      <td>1.0</td>\n",
       "      <td>-0.898208</td>\n",
       "      <td>0.392361</td>\n",
       "      <td>1.625</td>\n",
       "      <td>0.327602</td>\n",
       "      <td>0.385417</td>\n",
       "      <td>0.216506</td>\n",
       "    </tr>\n",
       "    <tr>\n",
       "      <th>4</th>\n",
       "      <td>1804</td>\n",
       "      <td>17515753849</td>\n",
       "      <td>13134</td>\n",
       "      <td>10534</td>\n",
       "      <td>0</td>\n",
       "      <td>984</td>\n",
       "      <td>2</td>\n",
       "      <td>1</td>\n",
       "      <td>24000.0</td>\n",
       "      <td>True</td>\n",
       "      <td>0.704623</td>\n",
       "      <td>1168.0</td>\n",
       "      <td>0.456407</td>\n",
       "      <td>1.0</td>\n",
       "      <td>-0.898208</td>\n",
       "      <td>0.392361</td>\n",
       "      <td>1.625</td>\n",
       "      <td>0.327602</td>\n",
       "      <td>0.385417</td>\n",
       "      <td>0.216506</td>\n",
       "    </tr>\n",
       "  </tbody>\n",
       "</table>\n",
       "</div>"
      ],
      "text/plain": [
       "   row_id    timestamp  user_id  content_id  content_type_id  \\\n",
       "0    1800  17508330877    13134        3340                0   \n",
       "1    1801  17515647346    13134       10666                0   \n",
       "2    1802  17515688927    13134       10512                0   \n",
       "3    1803  17515722537    13134       12655                0   \n",
       "4    1804  17515753849    13134       10534                0   \n",
       "\n",
       "   task_container_id  user_answer  answered_correctly  \\\n",
       "0                980            3                   1   \n",
       "1                981            2                   1   \n",
       "2                982            1                   0   \n",
       "3                983            2                   1   \n",
       "4                984            2                   1   \n",
       "\n",
       "   prior_question_elapsed_time  prior_question_had_explanation  \\\n",
       "0                      33000.0                            True   \n",
       "1                      28666.0                            True   \n",
       "2                      24000.0                            True   \n",
       "3                      30000.0                            True   \n",
       "4                      24000.0                            True   \n",
       "\n",
       "   mean_user_accuracy  questions_answered  std_user_accuracy  \\\n",
       "0            0.704623              1168.0           0.456407   \n",
       "1            0.704623              1168.0           0.456407   \n",
       "2            0.704623              1168.0           0.456407   \n",
       "3            0.704623              1168.0           0.456407   \n",
       "4            0.704623              1168.0           0.456407   \n",
       "\n",
       "   median_user_accuracy  skew_user_accuracy  mean_accuracy  question_asked  \\\n",
       "0                   1.0           -0.898208       0.392361           1.625   \n",
       "1                   1.0           -0.898208       0.392361           1.625   \n",
       "2                   1.0           -0.898208       0.392361           1.625   \n",
       "3                   1.0           -0.898208       0.392361           1.625   \n",
       "4                   1.0           -0.898208       0.392361           1.625   \n",
       "\n",
       "   std_accuracy  median_accuracy  skew_accuracy  \n",
       "0      0.327602         0.385417       0.216506  \n",
       "1      0.327602         0.385417       0.216506  \n",
       "2      0.327602         0.385417       0.216506  \n",
       "3      0.327602         0.385417       0.216506  \n",
       "4      0.327602         0.385417       0.216506  "
      ]
     },
     "execution_count": 24,
     "metadata": {},
     "output_type": "execute_result"
    }
   ],
   "source": [
    "train.head()"
   ]
  },
  {
   "cell_type": "markdown",
   "metadata": {},
   "source": [
    "## QUESTIONS"
   ]
  },
  {
   "cell_type": "code",
   "execution_count": 25,
   "metadata": {},
   "outputs": [],
   "source": [
    "questions = pd.read_csv('./raw_data/questions.csv')"
   ]
  },
  {
   "cell_type": "code",
   "execution_count": 28,
   "metadata": {},
   "outputs": [
    {
     "data": {
      "text/html": [
       "<div>\n",
       "<style scoped>\n",
       "    .dataframe tbody tr th:only-of-type {\n",
       "        vertical-align: middle;\n",
       "    }\n",
       "\n",
       "    .dataframe tbody tr th {\n",
       "        vertical-align: top;\n",
       "    }\n",
       "\n",
       "    .dataframe thead th {\n",
       "        text-align: right;\n",
       "    }\n",
       "</style>\n",
       "<table border=\"1\" class=\"dataframe\">\n",
       "  <thead>\n",
       "    <tr style=\"text-align: right;\">\n",
       "      <th></th>\n",
       "      <th>question_id</th>\n",
       "      <th>bundle_id</th>\n",
       "      <th>correct_answer</th>\n",
       "      <th>part</th>\n",
       "      <th>tags</th>\n",
       "    </tr>\n",
       "  </thead>\n",
       "  <tbody>\n",
       "    <tr>\n",
       "      <th>0</th>\n",
       "      <td>0</td>\n",
       "      <td>0</td>\n",
       "      <td>0</td>\n",
       "      <td>1</td>\n",
       "      <td>51 131 162 38</td>\n",
       "    </tr>\n",
       "    <tr>\n",
       "      <th>1</th>\n",
       "      <td>1</td>\n",
       "      <td>1</td>\n",
       "      <td>1</td>\n",
       "      <td>1</td>\n",
       "      <td>131 36 81</td>\n",
       "    </tr>\n",
       "    <tr>\n",
       "      <th>2</th>\n",
       "      <td>2</td>\n",
       "      <td>2</td>\n",
       "      <td>0</td>\n",
       "      <td>1</td>\n",
       "      <td>131 101 162 92</td>\n",
       "    </tr>\n",
       "    <tr>\n",
       "      <th>3</th>\n",
       "      <td>3</td>\n",
       "      <td>3</td>\n",
       "      <td>0</td>\n",
       "      <td>1</td>\n",
       "      <td>131 149 162 29</td>\n",
       "    </tr>\n",
       "    <tr>\n",
       "      <th>4</th>\n",
       "      <td>4</td>\n",
       "      <td>4</td>\n",
       "      <td>3</td>\n",
       "      <td>1</td>\n",
       "      <td>131 5 162 38</td>\n",
       "    </tr>\n",
       "  </tbody>\n",
       "</table>\n",
       "</div>"
      ],
      "text/plain": [
       "   question_id  bundle_id  correct_answer  part            tags\n",
       "0            0          0               0     1   51 131 162 38\n",
       "1            1          1               1     1       131 36 81\n",
       "2            2          2               0     1  131 101 162 92\n",
       "3            3          3               0     1  131 149 162 29\n",
       "4            4          4               3     1    131 5 162 38"
      ]
     },
     "execution_count": 28,
     "metadata": {},
     "output_type": "execute_result"
    }
   ],
   "source": [
    "questions.head()"
   ]
  }
 ],
 "metadata": {
  "kernelspec": {
   "display_name": "Python 3",
   "language": "python",
   "name": "python3"
  },
  "language_info": {
   "codemirror_mode": {
    "name": "ipython",
    "version": 3
   },
   "file_extension": ".py",
   "mimetype": "text/x-python",
   "name": "python",
   "nbconvert_exporter": "python",
   "pygments_lexer": "ipython3",
   "version": "3.8.5"
  }
 },
 "nbformat": 4,
 "nbformat_minor": 4
}
